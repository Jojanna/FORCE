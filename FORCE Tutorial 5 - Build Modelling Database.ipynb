{
 "cells": [
  {
   "cell_type": "code",
   "execution_count": 1,
   "metadata": {
    "collapsed": false
   },
   "outputs": [
    {
     "name": "stdout",
     "output_type": "stream",
     "text": [
      "C:\\Users\\joanna.wallis\\Documents\\Github\\FORCE\\Public\n"
     ]
    }
   ],
   "source": [
    "# this module assumes that you have clustered your 100% water scenarios\n",
    "# and will now read it in and merge it with the hydrocarbon bearing scenarios\n",
    "\n",
    "# module assumes that the clustered water database has filename [root]\\\\All_wells_100WTR_labels.txt\n",
    "\n",
    "import lasio\n",
    "import pandas as pd\n",
    "import numpy as np\n",
    "import matplotlib.pyplot as plt\n",
    "from pandas.plotting import scatter_matrix\n",
    "\n",
    "# formatting parameters for charts\n",
    "plt.rcParams[\"font.size\"] = 11\n",
    "plt.rcParams[\"figure.figsize\"] = (8., 6.)\n",
    "plt.rcParams[\"figure.dpi\"] = 400\n",
    "plt.rcParams[\"lines.markersize\"] = 6\n",
    "plt.rcParams[\"lines.markeredgewidth\"] = 0.1\n",
    "plt.rcParams['patch.edgecolor'] = 'k'\n",
    "plt.rcParams['patch.linewidth'] = 0.1\n",
    "\n",
    "%matplotlib inline\n",
    "\n",
    "#set home directory for python scripts\n",
    "%cd C:\\Users\\joanna.wallis\\Documents\\Github\\FORCE\\Public\\ \n",
    "\n",
    "from Database_constructor import build_modelling_database\n",
    "\n"
   ]
  },
  {
   "cell_type": "code",
   "execution_count": 2,
   "metadata": {
    "collapsed": false
   },
   "outputs": [],
   "source": [
    "root = r'C:\\Users\\joanna.wallis\\Documents\\FORCE_presentation\\example_well_log'\n",
    "wells = [\"WELL\"]\n",
    "water_scenarios = [\"100WTR\"]\n",
    "null = -999.25\n",
    "\n",
    "hc_scenarios = [\"05OIL\", \"70OIL\", \"95OIL\"]\n",
    "phase = [\"oil\", \"oil\", \"oil\"]\n",
    "null = -999.25\n",
    "depth_col = \"DEPTH\"\n",
    "\n",
    "# The properties that the data was clustered on\n",
    "clustered_cols = [\"Vp\", \"RhoB\",\"Vsh\", \"PhiE\"]\n",
    "\n",
    "# These columns are used to exclude duplicate datapoints i.e. where there is no fluid sub. Requires depth (md) as a minimum, ideally also Vp, Vs, RhoB, Vsh and PhiE, \n",
    "common_cols = [\"DEPTH\", \"TVDML ft\", \"Bulk Modulus\", \"Shear Modulus\", \"Vp/Vs\", \"AI\", \"SI\", \"Poisson's Ratio\", \"Lambda-Rho\", \"Mu-Rho\", \"Vp\", \"Vs\", \"RhoB\", \"PhiE\", \"Vsh\"]\n",
    "\n",
    "# option to have a different class for points of the same facies cluster, but different fluid saturation/phase\n",
    "# if True, the difference between classes of same facies but different fluid/saturation will be equal to the number of clusters initially identified\n",
    "# e.g. 7 classes; 100% water class = 1, 95% oil = 8, 70% oil = 15\n",
    "vary_class_w_sw = False\n",
    "\n",
    "# if the database has already been constructed/merged, you can load directly from the csv file, in which case set this to true,\n",
    "rebuild_database = True\n",
    "# suppress graphs, if you wish\n",
    "construct_graph = False"
   ]
  },
  {
   "cell_type": "code",
   "execution_count": 3,
   "metadata": {
    "collapsed": false
   },
   "outputs": [
    {
     "name": "stdout",
     "output_type": "stream",
     "text": [
      "Complete: WELL\n"
     ]
    }
   ],
   "source": [
    "database, filename = build_modelling_database(rebuild_database, root, wells, hc_scenarios, phase, common_cols, depth_col, clustered_cols, vary_class_w_sw = True)"
   ]
  },
  {
   "cell_type": "code",
   "execution_count": 4,
   "metadata": {
    "collapsed": false
   },
   "outputs": [
    {
     "name": "stdout",
     "output_type": "stream",
     "text": [
      "Modelling Database file C:\\Users\\joanna.wallis\\Documents\\FORCE_presentation\\example_well_log\\All_wells_labels.txt\n",
      "Brief look at database entries:\n",
      "     DEPTH  Bulk Modulus  Shear Modulus   Vp/Vs      AI      SI  \\\n",
      "0  10536.0        14.761         4.6999  2.1152  6981.5  3300.6   \n",
      "1  10536.0        15.003         4.5604  2.1502  7138.6  3320.0   \n",
      "2  10536.0        14.990         4.7617  2.1169  7091.9  3350.1   \n",
      "3  10537.0        14.890         4.4842  2.1573  7093.4  3288.1   \n",
      "4  10538.0        15.855         5.2997  2.0797  7452.4  3583.4   \n",
      "\n",
      "   Poisson's Ratio  Lambda-Rho  Mu-Rho      Vp  ...       TVDKB m    TVDKB ft  \\\n",
      "0          0.35607      26.953  10.894  3011.9  ...    3209.91400  10531.2139   \n",
      "1          0.36200      28.914  11.023  2953.5  ...    3209.91400  10531.2139   \n",
      "2          0.35638      27.849  11.223  3008.9  ...    3209.91400  10531.2139   \n",
      "3          0.36316      28.693  10.811  2942.1  ...    3210.21866  10532.2134   \n",
      "4          0.34962      29.856  12.841  3075.7  ...    3210.52332  10533.2130   \n",
      "\n",
      "      TVDSS m     TVDML m    TVDSS ft    TVDML ft  Well_Name  Scenario  \\\n",
      "0  3191.62600  3130.66600  10471.2139  10271.2139       WELL    100WTR   \n",
      "1  3191.62600  3130.66600  10471.2139  10271.2139       WELL    100WTR   \n",
      "2  3191.62600  3130.66600  10471.2139  10271.2139       WELL    100WTR   \n",
      "3  3191.93066  3130.97066  10472.2134  10272.2134       WELL    100WTR   \n",
      "4  3192.23532  3131.27532  10473.2130  10273.2130       WELL    100WTR   \n",
      "\n",
      "   labels  Phase  \n",
      "0     0.0  water  \n",
      "1     1.0  water  \n",
      "2     0.0  water  \n",
      "3     2.0  water  \n",
      "4     1.0  water  \n",
      "\n",
      "[5 rows x 26 columns]\n"
     ]
    }
   ],
   "source": [
    "print (\"Modelling Database file %s\" % filename)\n",
    "print (\"Brief look at database entries:\")\n",
    "print (database.head())"
   ]
  },
  {
   "cell_type": "code",
   "execution_count": null,
   "metadata": {
    "collapsed": true
   },
   "outputs": [],
   "source": []
  }
 ],
 "metadata": {
  "kernelspec": {
   "display_name": "Python 3",
   "language": "python",
   "name": "python3"
  },
  "language_info": {
   "codemirror_mode": {
    "name": "ipython",
    "version": 3
   },
   "file_extension": ".py",
   "mimetype": "text/x-python",
   "name": "python",
   "nbconvert_exporter": "python",
   "pygments_lexer": "ipython3",
   "version": "3.6.0"
  }
 },
 "nbformat": 4,
 "nbformat_minor": 2
}
