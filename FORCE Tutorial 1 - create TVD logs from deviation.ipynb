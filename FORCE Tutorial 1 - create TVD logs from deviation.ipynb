{
 "cells": [
  {
   "cell_type": "code",
   "execution_count": 1,
   "metadata": {
    "collapsed": false
   },
   "outputs": [
    {
     "name": "stdout",
     "output_type": "stream",
     "text": [
      "C:\\Users\\joanna.wallis\\Documents\\Github\\FORCE\\Public\n"
     ]
    }
   ],
   "source": [
    "import numpy as np\n",
    "import pandas as pd\n",
    "from scipy.interpolate import interp1d\n",
    "import lasio\n",
    "#set home directory for python scripts\n",
    "%cd C:\\Users\\joanna.wallis\\Documents\\Github\\FORCE\\Public\\ \n",
    "from deviation_tvd import compute_position_log\n",
    "from deviation_tvd import interpolate_dev\n"
   ]
  },
  {
   "cell_type": "code",
   "execution_count": 2,
   "metadata": {
    "collapsed": true
   },
   "outputs": [],
   "source": [
    "# positioning data txt file\n",
    "position_filepath = r'C:\\Users\\joanna.wallis\\Documents\\FORCE_presentation\\example_well_log\\position_data_example.txt'\n",
    "# define headers of columns in position filepath file\n",
    "x_col = \"Well X (m)\"\n",
    "y_col = \"Well Y (m)\"\n",
    "wd_col = \"WD (ft)\" # water depth from MSL to Seabed\n",
    "kb_col = \"KB Elev. (ft)\" #kb from the Kelly Bushing to MSL\n",
    "td_col = \"TD (ft)\" # md from the Kelly Bushing to well TD\n",
    "\n",
    "# deviation file\n",
    "# module expects a 3 column tab delimited file containing md/incl/azimuth, sorted by depth\n",
    "# dev files should be named \"[wellname][suffix]\" - in this way multiple depth logs can be created at once.\n",
    "root = r'C:\\Users\\joanna.wallis\\Documents\\FORCE_presentation\\example_well_log'\n",
    "suffix = \"_dev.txt\"\n",
    "header = 1 # number of header lines in deviation file\n",
    "depth_units = \"feet\"\n",
    "output_sampling = 0.5 #sampling frequency of wireline logs, in same units as Md.\n",
    "start = 0 #start depth\n",
    "\n",
    "# well names. Can handle a list within square brackets, separated by commas\n",
    "wells = [\"WELL\"]\n",
    "\n",
    "## Use only if well is vertical - uses well position, TD and datums to create depth logs\n",
    "vert = False\n",
    "vert_td = 11350"
   ]
  },
  {
   "cell_type": "code",
   "execution_count": 3,
   "metadata": {
    "collapsed": true
   },
   "outputs": [],
   "source": [
    "# loading well positions IN METRES, EASTING AND NORTHING\n",
    "\n",
    "positions = pd.read_csv(position_filepath, delimiter = \"\\t\", header = 0, index_col = 0)\n",
    "positions.index.name = \"Well_Name\"\n",
    "positions.index = positions.index.str.replace('/', '_')"
   ]
  },
  {
   "cell_type": "code",
   "execution_count": 5,
   "metadata": {
    "collapsed": false
   },
   "outputs": [
    {
     "name": "stdout",
     "output_type": "stream",
     "text": [
      "       Md m  Inc deg  Azimuth deg    Md ft  delta_N m  delta_E m    delta_V m  \\\n",
      "0     0.000      0.0          0.0      0.0   0.000000   0.000000     0.000000   \n",
      "1    18.288      0.0          0.0     60.0   0.000000   0.000000    18.288000   \n",
      "2  3459.480      3.0         53.0  11350.0  54.205248  71.932793  3457.907845   \n",
      "3  3474.720      0.0          0.0  11400.0  54.445306  72.251362  3473.140882   \n",
      "\n",
      "     delta_V ft  delta_N_offset  delta_E_offset  delta_V_offset  \\\n",
      "0      0.000000        0.000000        0.000000        0.000000   \n",
      "1     60.000000        0.000000        0.000000       18.288000   \n",
      "2  11344.842011       54.205248       71.932793     3439.619845   \n",
      "3  11394.819168        0.240059        0.318569       15.233037   \n",
      "\n",
      "        X Co-ord       Y Co-ord  \n",
      "0  529090.000000  179645.000000  \n",
      "1  529090.000000  179645.000000  \n",
      "2  529161.932793  179699.205248  \n",
      "3  529162.251362  179699.445306  \n"
     ]
    }
   ],
   "source": [
    "# Compute the position log (i.e. converting incl/azi data into easting and northing points)\n",
    "output_deviation, depth_log, output_md2tvd = interpolate_dev(wells, positions, x_col, y_col, wd_col, kb_col, td_col, root, suffix, depth_units, header)\n",
    "\n",
    "# this is the deviation rendered into easting/northing at sampling frequency of deviation survey\n",
    "print (output_deviation)\n",
    "\n",
    "\n",
    "\n"
   ]
  },
  {
   "cell_type": "code",
   "execution_count": 6,
   "metadata": {
    "collapsed": false
   },
   "outputs": [
    {
     "name": "stdout",
     "output_type": "stream",
     "text": [
      "   Md ft    Md m  TVDKB m  TVDKB ft  TVDSS m  TVDML m  TVDSS ft  TVDML ft\n",
      "0    0.0  0.0000   0.0000       0.0 -18.2880 -79.2480     -60.0    -260.0\n",
      "1    0.5  0.1524   0.1524       0.5 -18.1356 -79.0956     -59.5    -259.5\n",
      "2    1.0  0.3048   0.3048       1.0 -17.9832 -78.9432     -59.0    -259.0\n",
      "3    1.5  0.4572   0.4572       1.5 -17.8308 -78.7908     -58.5    -258.5\n",
      "4    2.0  0.6096   0.6096       2.0 -17.6784 -78.6384     -58.0    -258.0\n"
     ]
    }
   ],
   "source": [
    "#This is a brief look at the depth logs interpolated to the sampling frequency of the wireline. A las file has been output as below.\n",
    "print (depth_log.head())"
   ]
  },
  {
   "cell_type": "code",
   "execution_count": 7,
   "metadata": {
    "collapsed": false
   },
   "outputs": [
    {
     "name": "stdout",
     "output_type": "stream",
     "text": [
      "C:\\Users\\joanna.wallis\\Documents\\FORCE_presentation\\example_well_log\\WELL_md2tvd.las\n"
     ]
    }
   ],
   "source": [
    "# the output las file containing the depth logs interpolated to the sampling frequency of the wireline is here:\n",
    "print (output_md2tvd)"
   ]
  },
  {
   "cell_type": "code",
   "execution_count": null,
   "metadata": {
    "collapsed": true
   },
   "outputs": [],
   "source": []
  }
 ],
 "metadata": {
  "kernelspec": {
   "display_name": "Python 3",
   "language": "python",
   "name": "python3"
  },
  "language_info": {
   "codemirror_mode": {
    "name": "ipython",
    "version": 3
   },
   "file_extension": ".py",
   "mimetype": "text/x-python",
   "name": "python",
   "nbconvert_exporter": "python",
   "pygments_lexer": "ipython3",
   "version": "3.6.0"
  }
 },
 "nbformat": 4,
 "nbformat_minor": 2
}
