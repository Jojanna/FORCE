{
 "cells": [
  {
   "cell_type": "code",
   "execution_count": 1,
   "metadata": {
    "collapsed": false
   },
   "outputs": [
    {
     "name": "stdout",
     "output_type": "stream",
     "text": [
      "C:\\Users\\joanna.wallis\\Documents\\Github\\FORCE\\Public\n"
     ]
    }
   ],
   "source": [
    "# e.g. use this to merge las files with the files with the depth logs created in the previous tutorial\n",
    "\n",
    "import lasio\n",
    "import pandas as pd\n",
    "import numpy as np\n",
    "\n",
    "%matplotlib inline\n",
    "\n",
    "#set home directory for python scripts\n",
    "%cd C:\\Users\\joanna.wallis\\Documents\\Github\\FORCE\\Public\\ \n",
    "    \n",
    "from general_merge_las import merge_las"
   ]
  },
  {
   "cell_type": "code",
   "execution_count": 2,
   "metadata": {
    "collapsed": true
   },
   "outputs": [],
   "source": [
    "# root for main las file\n",
    "root = r'C:\\Users\\joanna.wallis\\Documents\\FORCE_presentation\\example_well_log'\n",
    "wells = [\"WELL\"] #\n",
    "scenarios = [\"_100WTR\",\"_05OIL\", \"_70OIL\", \"_95OIL\"]#, \"_05GAS\", \"_70GAS\", \"_95GAS\"]\n",
    "depth_column = \"DEPTH\" #this will be the column that the files are merged on. These files should be sampled at the same intervals.\n",
    "\n",
    "# root for las file to be merged with main las\n",
    "merge_root = r'C:\\Users\\joanna.wallis\\Documents\\FORCE_presentation\\example_well_log'\n",
    "merge_suffix = \"_md2tvd\"\n",
    "merge_depth_col = \"Md ft\" #this will be the column that the files are merged on. These files should be sampled at the same intervals.\n",
    "\n",
    "#root for output las file\n",
    "out_root = r'C:\\Users\\joanna.wallis\\Documents\\FORCE_presentation\\example_well_log'\n",
    "\n",
    "# Null value\n",
    "null = -999.25"
   ]
  },
  {
   "cell_type": "code",
   "execution_count": null,
   "metadata": {
    "collapsed": false
   },
   "outputs": [],
   "source": [
    "output_filenames = merge_las(root, wells, scenarios, depth_column, merge_root, merge_suffix, merge_depth_col, out_root, null)\n",
    "print (\"Output Las Files:\")\n",
    "for file in output_filenames:\n",
    "    print (file + \"\\n\")"
   ]
  },
  {
   "cell_type": "code",
   "execution_count": null,
   "metadata": {
    "collapsed": true
   },
   "outputs": [],
   "source": []
  }
 ],
 "metadata": {
  "kernelspec": {
   "display_name": "Python 3",
   "language": "python",
   "name": "python3"
  },
  "language_info": {
   "codemirror_mode": {
    "name": "ipython",
    "version": 3
   },
   "file_extension": ".py",
   "mimetype": "text/x-python",
   "name": "python",
   "nbconvert_exporter": "python",
   "pygments_lexer": "ipython3",
   "version": "3.6.0"
  }
 },
 "nbformat": 4,
 "nbformat_minor": 2
}
